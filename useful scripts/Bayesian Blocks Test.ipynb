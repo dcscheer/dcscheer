{
 "cells": [
  {
   "cell_type": "code",
   "execution_count": 6,
   "metadata": {},
   "outputs": [],
   "source": [
    "import numpy as np\n",
    "from scipy import stats\n",
    "import pylab as pl\n",
    "%matplotlib inline"
   ]
  },
  {
   "cell_type": "code",
   "execution_count": 3,
   "metadata": {},
   "outputs": [],
   "source": [
    "# Define our test distribution: a mix of Cauchy-distributed variables\n",
    "np.random.seed(0)\n",
    "x = np.concatenate([stats.cauchy(-5, 1.8).rvs(500),\n",
    "                    stats.cauchy(-4, 0.8).rvs(2000),\n",
    "                    stats.cauchy(-1, 0.3).rvs(500),\n",
    "                    stats.cauchy(2, 0.8).rvs(1000),\n",
    "                    stats.cauchy(4, 1.5).rvs(500)])\n",
    "\n",
    "# truncate values to a reasonable range\n",
    "x = x[(x > -15) & (x < 15)]"
   ]
  },
  {
   "cell_type": "code",
   "execution_count": 5,
   "metadata": {},
   "outputs": [
    {
     "data": {
      "text/plain": [
       "4323"
      ]
     },
     "execution_count": 5,
     "metadata": {},
     "output_type": "execute_result"
    }
   ],
   "source": [
    "x.size"
   ]
  },
  {
   "cell_type": "code",
   "execution_count": 9,
   "metadata": {},
   "outputs": [
    {
     "data": {
      "text/plain": [
       "(array([0.00376685, 0.00580723, 0.01985446, 0.1169294 , 0.07172716,\n",
       "        0.06694012, 0.03861025, 0.00933866, 0.00463009, 0.001648  ]),\n",
       " array([-14.97136966, -12.0237102 ,  -9.07605075,  -6.12839129,\n",
       "         -3.18073183,  -0.23307238,   2.71458708,   5.66224653,\n",
       "          8.60990599,  11.55756545,  14.5052249 ]),\n",
       " <a list of 10 Patch objects>)"
      ]
     },
     "execution_count": 9,
     "metadata": {},
     "output_type": "execute_result"
    },
    {
     "data": {
      "image/png": "[encoded data removed]",
      "text/plain": [
       "<matplotlib.figure.Figure at 0x1a070fd7f0>"
      ]
     },
     "metadata": {},
     "output_type": "display_data"
    }
   ],
   "source": [
    "pl.hist(x, normed=True)"
   ]
  },
  {
   "cell_type": "code",
   "execution_count": 10,
   "metadata": {},
   "outputs": [
    {
     "data": {
      "text/plain": [
       "(array([0.00313904, 0.00392381, 0.00392381, 0.00313904, 0.00235428,\n",
       "        0.00313904, 0.00549333, 0.00392381, 0.00470857, 0.00392381,\n",
       "        0.00235428, 0.00313904, 0.00549333, 0.00392381, 0.00627809,\n",
       "        0.00549333, 0.00549333, 0.01020189, 0.00706285, 0.00863237,\n",
       "        0.00784761, 0.00706285, 0.01334094, 0.01177142, 0.01726474,\n",
       "        0.0141257 , 0.02040379, 0.02668188, 0.03295997, 0.04708566,\n",
       "        0.03766853, 0.05571804, 0.06513517, 0.07141326, 0.10751227,\n",
       "        0.17029315, 0.18206457, 0.20246836, 0.14831984, 0.12870082,\n",
       "        0.08004563, 0.06670469, 0.04865519, 0.0463009 , 0.05571804,\n",
       "        0.05257899, 0.09652561, 0.13497891, 0.09103229, 0.04473138,\n",
       "        0.03139044, 0.0321752 , 0.04551614, 0.05100947, 0.05493328,\n",
       "        0.08004563, 0.10829703, 0.09181705, 0.10123418, 0.07298278,\n",
       "        0.06356565, 0.05022471, 0.04943995, 0.04708566, 0.03845329,\n",
       "        0.03374473, 0.03766853, 0.02354283, 0.02511235, 0.01726474,\n",
       "        0.01177142, 0.02040379, 0.00706285, 0.01177142, 0.00784761,\n",
       "        0.00784761, 0.00549333, 0.00784761, 0.01020189, 0.00313904,\n",
       "        0.00706285, 0.00941713, 0.00156952, 0.00313904, 0.00549333,\n",
       "        0.00313904, 0.00313904, 0.00627809, 0.00313904, 0.00392381,\n",
       "        0.00235428, 0.        , 0.00078476, 0.00313904, 0.00235428,\n",
       "        0.00156952, 0.00235428, 0.00078476, 0.00078476, 0.00235428]),\n",
       " array([-14.97136966, -14.67660371, -14.38183777, -14.08707182,\n",
       "        -13.79230588, -13.49753993, -13.20277398, -12.90800804,\n",
       "        -12.61324209, -12.31847615, -12.0237102 , -11.72894426,\n",
       "        -11.43417831, -11.13941236, -10.84464642, -10.54988047,\n",
       "        -10.25511453,  -9.96034858,  -9.66558264,  -9.37081669,\n",
       "         -9.07605075,  -8.7812848 ,  -8.48651885,  -8.19175291,\n",
       "         -7.89698696,  -7.60222102,  -7.30745507,  -7.01268913,\n",
       "         -6.71792318,  -6.42315724,  -6.12839129,  -5.83362534,\n",
       "         -5.5388594 ,  -5.24409345,  -4.94932751,  -4.65456156,\n",
       "         -4.35979562,  -4.06502967,  -3.77026372,  -3.47549778,\n",
       "         -3.18073183,  -2.88596589,  -2.59119994,  -2.296434  ,\n",
       "         -2.00166805,  -1.70690211,  -1.41213616,  -1.11737021,\n",
       "         -0.82260427,  -0.52783832,  -0.23307238,   0.06169357,\n",
       "          0.35645951,   0.65122546,   0.94599141,   1.24075735,\n",
       "          1.5355233 ,   1.83028924,   2.12505519,   2.41982113,\n",
       "          2.71458708,   3.00935302,   3.30411897,   3.59888492,\n",
       "          3.89365086,   4.18841681,   4.48318275,   4.7779487 ,\n",
       "          5.07271464,   5.36748059,   5.66224653,   5.95701248,\n",
       "          6.25177843,   6.54654437,   6.84131032,   7.13607626,\n",
       "          7.43084221,   7.72560815,   8.0203741 ,   8.31514005,\n",
       "          8.60990599,   8.90467194,   9.19943788,   9.49420383,\n",
       "          9.78896977,  10.08373572,  10.37850166,  10.67326761,\n",
       "         10.96803356,  11.2627995 ,  11.55756545,  11.85233139,\n",
       "         12.14709734,  12.44186328,  12.73662923,  13.03139517,\n",
       "         13.32616112,  13.62092707,  13.91569301,  14.21045896,\n",
       "         14.5052249 ]),\n",
       " <a list of 100 Patch objects>)"
      ]
     },
     "execution_count": 10,
     "metadata": {},
     "output_type": "execute_result"
    },
    {
     "data": {
      "image/png": "[encoded data removed]",
      "text/plain": [
       "<matplotlib.figure.Figure at 0x1a074a7630>"
      ]
     },
     "metadata": {},
     "output_type": "display_data"
    }
   ],
   "source": [
    "pl.hist(x,bins=100, normed=True)"
   ]
  },
  {
   "cell_type": "code",
   "execution_count": 12,
   "metadata": {},
   "outputs": [],
   "source": [
    "# copy and sort the array\n",
    "t = np.sort(x)\n",
    "N = t.size\n",
    "\n",
    "# create length-(N + 1) array of cell edges\n",
    "edges = np.concatenate([t[:1],\n",
    "                        0.5 * (t[1:] + t[:-1]),\n",
    "                        t[-1:]])\n",
    "block_length = t[-1] - edges\n",
    "\n",
    "# arrays needed for the iteration\n",
    "nn_vec = np.ones(N)\n",
    "best = np.zeros(N, dtype=float)\n",
    "last = np.zeros(N, dtype=int)"
   ]
  },
  {
   "cell_type": "code",
   "execution_count": null,
   "metadata": {},
   "outputs": [],
   "source": [
    "for K in range(N):\n",
    "        # Compute the width and count of the final bin for all possible\n",
    "        # locations of the K^th changepoint\n",
    "        width = block_length[:K + 1] - block_length[K + 1]\n",
    "        count_vec = np.cumsum(nn_vec[:K + 1][::-1])[::-1]\n",
    "\n",
    "        # evaluate fitness function for these possibilities\n",
    "        fit_vec = count_vec * (np.log(count_vec) - np.log(width))\n",
    "        fit_vec -= 4  # 4 comes from the prior on the number of changepoints\n",
    "        fit_vec[1:] += best[:K]\n",
    "\n",
    "        # find the max of the fitness: this is the K^th changepoint\n",
    "        i_max = np.argmax(fit_vec)\n",
    "        last[K] = i_max\n",
    "        best[K] = fit_vec[i_max]"
   ]
  },
  {
   "cell_type": "code",
   "execution_count": 34,
   "metadata": {},
   "outputs": [],
   "source": [
    "def get_bins(K):\n",
    "        # Compute the width and count of the final bin for all possible\n",
    "        # locations of the K^th changepoint\n",
    "        width = block_length[:K + 1] - block_length[K + 1]\n",
    "        print(width)\n",
    "        count_vec = np.cumsum(nn_vec[:K + 1][::-1])[::-1]\n",
    "        print(count_vec)\n",
    "\n",
    "        # evaluate fitness function for these possibilities\n",
    "        fit_vec = count_vec * (np.log(count_vec) - np.log(width))\n",
    "        fit_vec -= 4  # 4 comes from the prior on the number of changepoints\n",
    "        fit_vec[1:] += best[:K]\n",
    "        print(fit_vec)\n",
    "\n",
    "        # find the max of the fitness: this is the K^th changepoint\n",
    "        i_max = np.argmax(fit_vec)\n",
    "        last[K] = i_max\n",
    "        best[K] = fit_vec[i_max]"
   ]
  },
  {
   "cell_type": "code",
   "execution_count": 36,
   "metadata": {},
   "outputs": [
    {
     "name": "stdout",
     "output_type": "stream",
     "text": [
      "[0.63865847 0.62268772 0.51899942 0.4032912  0.30637483 0.21947964\n",
      " 0.16978928 0.12931464 0.09380074 0.04358767 0.01402191]\n",
      "[11. 10.  9.  8.  7.  6.  5.  4.  3.  2.  1.]\n",
      "[27.30908785 23.76295232 23.31020581 19.90030361 17.90199295 15.84953158\n",
      " 12.91317533  9.72720457  6.39558431  3.65225646  0.267134  ]\n"
     ]
    }
   ],
   "source": [
    "get_bins(10)"
   ]
  },
  {
   "cell_type": "code",
   "execution_count": null,
   "metadata": {},
   "outputs": [],
   "source": []
  }
 ],
 "metadata": {
  "kernelspec": {
   "display_name": "Python 3",
   "language": "python",
   "name": "python3"
  },
  "language_info": {
   "codemirror_mode": {
    "name": "ipython",
    "version": 3
   },
   "file_extension": ".py",
   "mimetype": "text/x-python",
   "name": "python",
   "nbconvert_exporter": "python",
   "pygments_lexer": "ipython3",
   "version": "3.6.4"
  }
 },
 "nbformat": 4,
 "nbformat_minor": 2
}
